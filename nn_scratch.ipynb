{
 "cells": [
  {
   "cell_type": "code",
   "execution_count": 1,
   "metadata": {},
   "outputs": [],
   "source": [
    "import numpy as np\n",
    "import random"
   ]
  },
  {
   "cell_type": "code",
   "execution_count": 2,
   "metadata": {},
   "outputs": [],
   "source": [
    "input_data = [(np.random.randn(8, 64), np.array([1, 0, 1, 0, 0, 1, 1, 0])), \n",
    "              (np.random.randn(8, 64), np.array([0, 1, 1, 1, 1, 1, 0, 1])), \n",
    "              (np.random.randn(8, 64), np.array([0, 0, 0, 0, 0, 1, 1, 0])),\n",
    "              (np.random.randn(8, 64), np.array([1, 0, 0, 1, 0, 0, 0, 0])),\n",
    "              (np.random.randn(8, 64), np.array([0, 1, 1, 1, 1, 1, 1, 0])),\n",
    "              (np.random.randn(8, 64), np.array([1, 1, 1, 0, 1, 0, 1, 1]))]"
   ]
  },
  {
   "cell_type": "code",
   "execution_count": 3,
   "metadata": {},
   "outputs": [],
   "source": [
    "def relu(x):\n",
    "    return np.maximum(x, 0)\n",
    "\n",
    "def relu_dt(x):\n",
    "    x[x<=0] = 0\n",
    "    x[x>0] = 1\n",
    "    return x"
   ]
  },
  {
   "cell_type": "code",
   "execution_count": 4,
   "metadata": {},
   "outputs": [],
   "source": [
    "def sigmoid(x):\n",
    "    return 1/(1 + np.exp(-x))\n",
    "\n",
    "def sigmoid_dt(x):\n",
    "    return sigmoid(x) * (1 - sigmoid(x))"
   ]
  },
  {
   "cell_type": "code",
   "execution_count": 5,
   "metadata": {},
   "outputs": [],
   "source": [
    "# TODO find out how to vectorize batching\n",
    "\n",
    "def centropy_loss(y, a):\n",
    "    total = 0\n",
    "    for i in range(y.shape[0]):\n",
    "        total += np.sum(-(y[i] * np.log(a[i])))\n",
    "    return total / y.shape[0]\n",
    "\n",
    "def centropy_loss_dt(y, a):\n",
    "    d = np.zeros_like(a)\n",
    "    for i in range(y.shape[0]):\n",
    "        d[i] = -(y[i]/ a[i])\n",
    "    return d"
   ]
  },
  {
   "cell_type": "code",
   "execution_count": 6,
   "metadata": {},
   "outputs": [],
   "source": [
    "class NN(object):\n",
    "    def __init__(self):\n",
    "        self.weights = [np.random.randn(64, 18) * np.sqrt(1./18), \n",
    "                        np.random.randn(18, 2) * np.sqrt(1./2)]\n",
    "        self.bias = [np.random.randn(18), \n",
    "                     np.random.rand(2)]\n",
    "        \n",
    "    def feedforward(self, input_batch):\n",
    "        output = np.dot(input_batch, self.weights[0]) + self.bias[0]\n",
    "        output = relu(output)\n",
    "        output = np.dot(output, self.weights[1]) + self.bias[1]\n",
    "        output = sigmoid(output)\n",
    "        return output\n",
    "    \n",
    "    def backprop(self, input_data):\n",
    "        # Forward\n",
    "        target = input_data[1]\n",
    "\n",
    "        activations = []\n",
    "        zs = []\n",
    "\n",
    "        activation = input_data[0]\n",
    "        activations.append(activation)\n",
    "\n",
    "        z = np.dot(activation, self.weights[0]) + self.bias[0]\n",
    "        zs.append(z)\n",
    "\n",
    "        activation = relu(z)\n",
    "        activations.append(activation)\n",
    "\n",
    "        z = np.dot(activation, self.weights[1]) + self.bias[1]\n",
    "        zs.append(z)\n",
    "\n",
    "        activation = sigmoid(z)\n",
    "        activations.append(activation)\n",
    "\n",
    "        # Backward\n",
    "        nabla_w = [np.zeros(w.shape) for w in self.weights]\n",
    "        nabla_b = [np.zeros(b.shape) for b in self.bias]\n",
    "\n",
    "        # special case: last layer with loss derivative\n",
    "        delta = centropy_loss_dt(target, activations[-1]) * sigmoid_dt(zs[-1])\n",
    "\n",
    "        nabla_w[-1] = np.dot(activations[-2].transpose(), delta)\n",
    "        nabla_b[-1] = delta\n",
    "\n",
    "        # loop through the rest\n",
    "        for i in range(2, len(nabla_w)+1):\n",
    "            delta = np.dot(delta, self.weights[-i+1].transpose()) * sigmoid_dt(zs[-i])\n",
    "\n",
    "            nabla_w[-i] = np.dot(activations[-i-1].transpose(), delta)\n",
    "            nabla_b[-i] = delta\n",
    "\n",
    "        return (nabla_w, nabla_b)\n",
    "    \n",
    "    def update_mini_batch(self, batch, lr):\n",
    "        nabla_w = [np.zeros(w.shape) for w in self.weights]\n",
    "        nabla_b = [np.zeros(b.shape) for b in self.bias]\n",
    "\n",
    "        for i in range(batch[0].shape[0]):\n",
    "            delta_nabla_w, delta_nabla_b = self.backprop((np.expand_dims(batch[0][i], 0),\n",
    "                                                          np.expand_dims(batch[1][i], 0)))\n",
    "            nabla_w = [nw+dnw for nw, dnw in zip(nabla_w, delta_nabla_w)]\n",
    "            nabla_b = [nb+dnb for nb, dnb in zip(nabla_b, delta_nabla_b)]\n",
    "\n",
    "        self.weights = [w - lr * nw\n",
    "                        for w, nw in zip(self.weights, nabla_w)]\n",
    "        self.bias = [b - lr * nb\n",
    "                     for b, nb in zip(self.bias, nabla_b)]\n",
    "        \n",
    "    def train(self, input_data, num_epochs, lr):\n",
    "        \"Trains the network on input_data for num_epochs times, with learning rate lr\"\n",
    "        for e in range(num_epochs):\n",
    "            random.shuffle(input_data)\n",
    "            for data in input_data:\n",
    "                self.update_mini_batch(data, lr)"
   ]
  },
  {
   "cell_type": "code",
   "execution_count": 7,
   "metadata": {},
   "outputs": [],
   "source": [
    "network = NN()"
   ]
  },
  {
   "cell_type": "code",
   "execution_count": 8,
   "metadata": {},
   "outputs": [
    {
     "data": {
      "text/plain": [
       "1.082930161560083"
      ]
     },
     "execution_count": 8,
     "metadata": {},
     "output_type": "execute_result"
    }
   ],
   "source": [
    "outputs = network.feedforward(input_data[0][0])\n",
    "\n",
    "centropy_loss(input_data[0][1], outputs)"
   ]
  },
  {
   "cell_type": "code",
   "execution_count": 9,
   "metadata": {},
   "outputs": [],
   "source": [
    "network.train(input_data, num_epochs=10, lr=0.01)"
   ]
  },
  {
   "cell_type": "code",
   "execution_count": 10,
   "metadata": {},
   "outputs": [
    {
     "data": {
      "text/plain": [
       "0.0007187826874452917"
      ]
     },
     "execution_count": 10,
     "metadata": {},
     "output_type": "execute_result"
    }
   ],
   "source": [
    "outputs = network.feedforward(input_data[0][0])\n",
    "\n",
    "centropy_loss(input_data[0][1], outputs)"
   ]
  },
  {
   "cell_type": "code",
   "execution_count": null,
   "metadata": {},
   "outputs": [],
   "source": []
  }
 ],
 "metadata": {
  "kernelspec": {
   "display_name": "Python 3",
   "language": "python",
   "name": "python3"
  },
  "language_info": {
   "codemirror_mode": {
    "name": "ipython",
    "version": 3
   },
   "file_extension": ".py",
   "mimetype": "text/x-python",
   "name": "python",
   "nbconvert_exporter": "python",
   "pygments_lexer": "ipython3",
   "version": "3.7.7"
  }
 },
 "nbformat": 4,
 "nbformat_minor": 4
}
